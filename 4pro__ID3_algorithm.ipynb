{
  "cells": [
    {
      "cell_type": "markdown",
      "metadata": {
        "id": "view-in-github",
        "colab_type": "text"
      },
      "source": [
        "<a href=\"https://colab.research.google.com/github/YogeeshaBayari/AI-ML-Lab/blob/main/4pro__ID3_algorithm.ipynb\" target=\"_parent\"><img src=\"https://colab.research.google.com/assets/colab-badge.svg\" alt=\"Open In Colab\"/></a>"
      ]
    },
    {
      "cell_type": "code",
      "execution_count": null,
      "metadata": {
        "collapsed": true,
        "id": "akZJi4VPAQEB"
      },
      "outputs": [],
      "source": [
        "import math\n",
        "import csv\n",
        "def load_csv(filename):\n",
        "    lines = csv.reader(open(filename, \"r\"));\n",
        "    dataset = list(lines)\n",
        "    headers = dataset.pop(0)\n",
        "    return dataset, headers"
      ]
    },
    {
      "cell_type": "code",
      "execution_count": null,
      "metadata": {
        "collapsed": true,
        "id": "7MJNUhI4AQEE"
      },
      "outputs": [],
      "source": [
        "class Node:\n",
        "    def __init__(self, attribute):\n",
        "        self.attribute = attribute\n",
        "        self.children = []\n",
        "        self.answer = \"\" # NULL indicates children exists.\n",
        "                         # Not Null indicates this is a Leaf Node"
      ]
    },
    {
      "cell_type": "code",
      "execution_count": null,
      "metadata": {
        "collapsed": true,
        "id": "CbsLD-byAQEF"
      },
      "outputs": [],
      "source": [
        "def subtables(data, col, delete):\n",
        "    dic = {}\n",
        "    coldata = [ row[col] for row in data]\n",
        "    attr = list(set(coldata)) # All values of attribute retrieved\n",
        "    for k in attr:\n",
        "        dic[k] = []\n",
        "    for y in range(len(data)):\n",
        "        key = data[y][col]\n",
        "        if delete:\n",
        "            del data[y][col]\n",
        "        dic[key].append(data[y])\n",
        "    return attr, dic"
      ]
    },
    {
      "cell_type": "code",
      "execution_count": null,
      "metadata": {
        "collapsed": true,
        "id": "Y7tbjOfjAQEF"
      },
      "outputs": [],
      "source": [
        "def entropy(S):\n",
        "    attr = list(set(S))\n",
        "    if len(attr) == 1: #if all are +ve/-ve then entropy = 0\n",
        "        return 0\n",
        "    counts = [0,0] # Only two values possible 'yes' or 'no'\n",
        "    for i in range(2):\n",
        "        counts[i] = sum( [1 for x in S if attr[i] == x] ) / (len(S) * 1.0)\n",
        "    sums = 0\n",
        "    for cnt in counts:\n",
        "        sums += -1 * cnt * math.log(cnt, 2)\n",
        "    return sums"
      ]
    },
    {
      "cell_type": "code",
      "execution_count": null,
      "metadata": {
        "collapsed": true,
        "id": "b0z9ZYcbAQEG"
      },
      "outputs": [],
      "source": [
        "def compute_gain(data, col):\n",
        "    attValues, dic = subtables(data, col, delete=False)\n",
        "    total_entropy = entropy([row[-1] for row in data])\n",
        "    for x in range(len(attValues)):\n",
        "        ratio = len(dic[attValues[x]]) / ( len(data) * 1.0)\n",
        "        entro = entropy([row[-1] for row in dic[attValues[x]]])\n",
        "        total_entropy -= ratio*entro\n",
        "    return total_entropy"
      ]
    },
    {
      "cell_type": "code",
      "execution_count": null,
      "metadata": {
        "collapsed": true,
        "id": "nAxSR4yAAQEG"
      },
      "outputs": [],
      "source": [
        "def build_tree(data, features):\n",
        "    lastcol = [row[-1] for row in data]\n",
        "    if (len(set(lastcol))) == 1: # If all samples have same labels return that label\n",
        "        node=Node(\"\")\n",
        "        node.answer = lastcol[0]\n",
        "        return node\n",
        "    n = len(data[0])-1\n",
        "    gains = [compute_gain(data, col) for col in range(n) ]\n",
        "    split = gains.index(max(gains)) # Find max gains and returns index\n",
        "    node = Node(features[split]) # 'node' stores attribute selected\n",
        "    #del (features[split])\n",
        "    fea = features[:split]+features[split+1:]\n",
        "    attr, dic = subtables(data, split, delete=True) # Data will be spilt in subtables\n",
        "    for x in range(len(attr)):\n",
        "        child = build_tree(dic[attr[x]], fea)\n",
        "        node.children.append((attr[x], child))\n",
        "    return node"
      ]
    },
    {
      "cell_type": "code",
      "execution_count": null,
      "metadata": {
        "collapsed": true,
        "id": "bomoRYF3AQEH"
      },
      "outputs": [],
      "source": [
        "def print_tree(node, level):\n",
        "    if node.answer != \"\":\n",
        "        print(\" \"*level, node.answer) # Displays leaf node yes/no\n",
        "        return\n",
        "    print(\" \"*level, node.attribute) # Displays attribute Name\n",
        "    for value, n in node.children:\n",
        "        print(\" \"*(level+1), value)\n",
        "        print_tree(n, level + 2)"
      ]
    },
    {
      "cell_type": "code",
      "execution_count": null,
      "metadata": {
        "id": "Sq4cUl4_AQEH",
        "outputId": "5d89f47e-9e8f-40e8-f6e7-088069a214f2"
      },
      "outputs": [
        {
          "name": "stdout",
          "output_type": "stream",
          "text": [
            "The decision tree for the dataset using ID3 algorithm is \n",
            " Outlook\n",
            "  rain\n",
            "   Wind\n",
            "    weak\n",
            "     yes\n",
            "    strong\n",
            "     no\n",
            "  sunny\n",
            "   Humidity\n",
            "    normal\n",
            "     yes\n",
            "    high\n",
            "     no\n",
            "  overcast\n",
            "   yes\n",
            "The test instance :  ['rain', 'cool', 'normal', 'strong']\n",
            "The predicted label : no\n",
            "The test instance :  ['sunny', 'mild', 'normal', 'strong']\n",
            "The predicted label : yes\n"
          ]
        }
      ],
      "source": [
        "def classify(node,x_test,features):\n",
        "    if node.answer != \"\":\n",
        "        print(node.answer)\n",
        "        return\n",
        "    pos = features.index(node.attribute)\n",
        "    for value, n in node.children:\n",
        "        if x_test[pos]==value:\n",
        "            classify(n,x_test,features)\n",
        "''' Main program '''\n",
        "dataset, features = load_csv(\"data3.csv\") # Read Tennis data\n",
        "node = build_tree(dataset, features) # Build decision tree\n",
        "print(\"The decision tree for the dataset using ID3 algorithm is \")\n",
        "print_tree(node, 0)\n",
        "testdata, features = load_csv(\"data3_test.csv\")\n",
        "for xtest in testdata:\n",
        "    print(\"The test instance : \",xtest)\n",
        "    print(\"The predicted label : \", end=\"\")\n",
        "    classify(node,xtest,features)"
      ]
    },
    {
      "cell_type": "code",
      "execution_count": null,
      "metadata": {
        "collapsed": true,
        "id": "6D9Vg0bxAQEI"
      },
      "outputs": [],
      "source": []
    }
  ],
  "metadata": {
    "kernelspec": {
      "display_name": "Python 3",
      "language": "python",
      "name": "python3"
    },
    "language_info": {
      "codemirror_mode": {
        "name": "ipython",
        "version": 3
      },
      "file_extension": ".py",
      "mimetype": "text/x-python",
      "name": "python",
      "nbconvert_exporter": "python",
      "pygments_lexer": "ipython3",
      "version": "3.6.3"
    },
    "colab": {
      "provenance": [],
      "include_colab_link": true
    }
  },
  "nbformat": 4,
  "nbformat_minor": 0
}